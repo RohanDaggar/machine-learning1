{
 "cells": [
  {
   "cell_type": "code",
   "execution_count": 133,
   "metadata": {},
   "outputs": [
    {
     "data": {
      "text/plain": [
       "1.0"
      ]
     },
     "execution_count": 133,
     "metadata": {},
     "output_type": "execute_result"
    }
   ],
   "source": [
    "import pandas as pd\n",
    "from sklearn.tree import DecisionTreeClassifier\n",
    "from sklearn.model_selection import train_test_split\n",
    "from sklearn.metrics import accuracy_score\n",
    "import joblib\n",
    "\n",
    "music_data = pd.read_csv('music.csv')\n",
    "# Need to split data into an input (age and gender) and output (music taste)\n",
    "x = music_data.drop(columns=['genre'])\n",
    "y = music_data['genre']\n",
    "x_train, x_test, y_train, y_test = train_test_split(x, y, test_size=0.2) # this splits the data into training and testing segments in a 80/20 split. Unpacked into 4 tuples\n",
    "\n",
    "model = DecisionTreeClassifier()\n",
    "model.fit(x_train, y_train)\n",
    "predictions = model.predict(x_test) # this can generate an output from the model. the input is the the testing data\n",
    "\n",
    "score = accuracy_score(y_test, predictions) # this compares the tested data to the training data to see the accuracy of the model\n",
    "score"
   ]
  },
  {
   "cell_type": "code",
   "execution_count": 129,
   "metadata": {},
   "outputs": [
    {
     "data": {
      "text/plain": [
       "['music-recommender.joblib']"
      ]
     },
     "execution_count": 129,
     "metadata": {},
     "output_type": "execute_result"
    }
   ],
   "source": [
    "joblib.dump(model, 'music-recommender.joblib') # saves the model to then call later"
   ]
  },
  {
   "cell_type": "code",
   "execution_count": 132,
   "metadata": {},
   "outputs": [
    {
     "name": "stderr",
     "output_type": "stream",
     "text": [
      "c:\\Users\\Rohan\\scoop\\apps\\python\\current\\lib\\site-packages\\sklearn\\base.py:450: UserWarning: X does not have valid feature names, but DecisionTreeClassifier was fitted with feature names\n",
      "  warnings.warn(\n"
     ]
    },
    {
     "data": {
      "text/plain": [
       "array(['HipHop'], dtype=object)"
      ]
     },
     "execution_count": 132,
     "metadata": {},
     "output_type": "execute_result"
    }
   ],
   "source": [
    "model = joblib.load('music-recommender.joblib')\n",
    "predictions = model.predict([[21,1]])\n",
    "predictions\n"
   ]
  },
  {
   "cell_type": "code",
   "execution_count": 134,
   "metadata": {},
   "outputs": [
    {
     "ename": "TypeError",
     "evalue": "export_graphviz() got an unexpected keyword argument 'out'",
     "output_type": "error",
     "traceback": [
      "\u001b[1;31m---------------------------------------------------------------------------\u001b[0m",
      "\u001b[1;31mTypeError\u001b[0m                                 Traceback (most recent call last)",
      "\u001b[1;32mc:\\Users\\Rohan\\OneDrive\\coding\\machine-learning1\\HelloWorld.ipynb Cell 4\u001b[0m in \u001b[0;36m<cell line: 3>\u001b[1;34m()\u001b[0m\n\u001b[0;32m      <a href='vscode-notebook-cell:/c%3A/Users/Rohan/OneDrive/coding/machine-learning1/HelloWorld.ipynb#W3sZmlsZQ%3D%3D?line=0'>1</a>\u001b[0m \u001b[39mfrom\u001b[39;00m \u001b[39msklearn\u001b[39;00m \u001b[39mimport\u001b[39;00m tree\n\u001b[1;32m----> <a href='vscode-notebook-cell:/c%3A/Users/Rohan/OneDrive/coding/machine-learning1/HelloWorld.ipynb#W3sZmlsZQ%3D%3D?line=2'>3</a>\u001b[0m tree\u001b[39m.\u001b[39;49mexport_graphviz(model, out\u001b[39m=\u001b[39;49m\u001b[39m'\u001b[39;49m\u001b[39mmusic-recommender.dot\u001b[39;49m\u001b[39m'\u001b[39;49m,\n\u001b[0;32m      <a href='vscode-notebook-cell:/c%3A/Users/Rohan/OneDrive/coding/machine-learning1/HelloWorld.ipynb#W3sZmlsZQ%3D%3D?line=3'>4</a>\u001b[0m                      feature_names\u001b[39m=\u001b[39;49m[\u001b[39m'\u001b[39;49m\u001b[39mage\u001b[39;49m\u001b[39m'\u001b[39;49m, \u001b[39m'\u001b[39;49m\u001b[39mgender\u001b[39;49m\u001b[39m'\u001b[39;49m],\n\u001b[0;32m      <a href='vscode-notebook-cell:/c%3A/Users/Rohan/OneDrive/coding/machine-learning1/HelloWorld.ipynb#W3sZmlsZQ%3D%3D?line=4'>5</a>\u001b[0m                      class_names\u001b[39m=\u001b[39;49m\u001b[39msorted\u001b[39;49m(y\u001b[39m.\u001b[39;49munique()),\n\u001b[0;32m      <a href='vscode-notebook-cell:/c%3A/Users/Rohan/OneDrive/coding/machine-learning1/HelloWorld.ipynb#W3sZmlsZQ%3D%3D?line=5'>6</a>\u001b[0m                      label\u001b[39m=\u001b[39;49m\u001b[39m'\u001b[39;49m\u001b[39mall\u001b[39;49m\u001b[39m'\u001b[39;49m,\n\u001b[0;32m      <a href='vscode-notebook-cell:/c%3A/Users/Rohan/OneDrive/coding/machine-learning1/HelloWorld.ipynb#W3sZmlsZQ%3D%3D?line=6'>7</a>\u001b[0m                      rounded\u001b[39m=\u001b[39;49m\u001b[39mTrue\u001b[39;49;00m,\n\u001b[0;32m      <a href='vscode-notebook-cell:/c%3A/Users/Rohan/OneDrive/coding/machine-learning1/HelloWorld.ipynb#W3sZmlsZQ%3D%3D?line=7'>8</a>\u001b[0m                      filled\u001b[39m=\u001b[39;49m\u001b[39mTrue\u001b[39;49;00m)\n",
      "\u001b[1;31mTypeError\u001b[0m: export_graphviz() got an unexpected keyword argument 'out'"
     ]
    }
   ],
   "source": [
    "from sklearn import tree\n",
    "\n",
    "tree.export_graphviz(model, out_file='music-recommender.dot',\n",
    "                     feature_names=['age', 'gender'],\n",
    "                     class_names=sorted(y.unique()),\n",
    "                     label='all',\n",
    "                     rounded=True,\n",
    "                     filled=True)"
   ]
  }
 ],
 "metadata": {
  "kernelspec": {
   "display_name": "Python 3.10.5 64-bit (system)",
   "language": "python",
   "name": "python3"
  },
  "language_info": {
   "codemirror_mode": {
    "name": "ipython",
    "version": 3
   },
   "file_extension": ".py",
   "mimetype": "text/x-python",
   "name": "python",
   "nbconvert_exporter": "python",
   "pygments_lexer": "ipython3",
   "version": "3.10.5"
  },
  "orig_nbformat": 4,
  "vscode": {
   "interpreter": {
    "hash": "2948b73861221870a7a65d474a8a5ed424baf9fe94903077a9b53189b70d5ec1"
   }
  }
 },
 "nbformat": 4,
 "nbformat_minor": 2
}
